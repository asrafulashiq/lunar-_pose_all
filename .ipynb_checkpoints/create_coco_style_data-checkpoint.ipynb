{
 "cells": [
  {
   "cell_type": "code",
   "execution_count": 1,
   "metadata": {},
   "outputs": [],
   "source": [
    "from pycocotools.coco import COCO"
   ]
  },
  {
   "cell_type": "code",
   "execution_count": 2,
   "metadata": {},
   "outputs": [
    {
     "name": "stdout",
     "output_type": "stream",
     "text": [
      "Using matplotlib backend: TkAgg\n",
      "Populating the interactive namespace from numpy and matplotlib\n"
     ]
    }
   ],
   "source": [
    "%pylab --no-import-all\n",
    "%reload_ext autoreload\n",
    "%autoreload 2\n",
    "#%matplotlib inline"
   ]
  },
  {
   "cell_type": "code",
   "execution_count": 3,
   "metadata": {},
   "outputs": [],
   "source": [
    "import json\n",
    "from pathlib import Path\n",
    "from pprint import pprint"
   ]
  },
  {
   "cell_type": "code",
   "execution_count": 4,
   "metadata": {},
   "outputs": [],
   "source": [
    "import pandas as pd\n",
    "import numpy as np"
   ]
  },
  {
   "cell_type": "code",
   "execution_count": 5,
   "metadata": {},
   "outputs": [],
   "source": [
    "json_dir = Path('./original_json/')"
   ]
  },
  {
   "cell_type": "code",
   "execution_count": 6,
   "metadata": {},
   "outputs": [],
   "source": [
    "data = []"
   ]
  },
  {
   "cell_type": "code",
   "execution_count": 7,
   "metadata": {},
   "outputs": [],
   "source": [
    "for file in json_dir.iterdir():\n",
    "    if str(file).endswith('json'):\n",
    "        fdata = json.load(file.open())\n",
    "        data.extend(fdata)"
   ]
  },
  {
   "cell_type": "code",
   "execution_count": 8,
   "metadata": {},
   "outputs": [
    {
     "data": {
      "text/plain": [
       "{u'annotations': [{u'class': u'Left Hand', u'x': 135.0, u'y': 298.0},\n",
       "  {u'class': u'Left Elbow', u'x': 186.0, u'y': 268.0},\n",
       "  {u'class': u'Left Elbow', u'x': 446.0, u'y': 271.0},\n",
       "  {u'class': u'Left Shoulder', u'x': 145.0, u'y': 224.0},\n",
       "  {u'class': u'Left Shoulder', u'x': 415.0, u'y': 258.0},\n",
       "  {u'class': u'Right Hand', u'x': 99.0, u'y': 321.0},\n",
       "  {u'class': u'Right Hand', u'x': 320.0, u'y': 274.0},\n",
       "  {u'class': u'Right Elbow', u'x': 295.0, u'y': 237.0},\n",
       "  {u'class': u'Right Elbow', u'x': 78.0, u'y': 276.0},\n",
       "  {u'class': u'Right Shoulder', u'x': 75.0, u'y': 236.0},\n",
       "  {u'class': u'Right Shoulder', u'x': 343.0, u'y': 249.0},\n",
       "  {u'class': u'Head', u'x': 106.0, u'y': 263.0},\n",
       "  {u'class': u'Head', u'x': 387.0, u'y': 296.0},\n",
       "  {u'class': u'Person',\n",
       "   u'height': 239.0,\n",
       "   u'width': 174.0,\n",
       "   u'x': 41.0,\n",
       "   u'y': 133.0},\n",
       "  {u'class': u'Person',\n",
       "   u'height': 227.0,\n",
       "   u'width': 217.0,\n",
       "   u'x': 257.0,\n",
       "   u'y': 141.0},\n",
       "  {u'class': u'Both Arms on Table', u'x': 78.0, u'y': 322.0},\n",
       "  {u'class': u'Both Arms on Table', u'x': 411.0, u'y': 344.0},\n",
       "  {u'class': u'Leaning forward', u'x': 136.0, u'y': 180.0},\n",
       "  {u'class': u'Leaning forward', u'x': 393.0, u'y': 195.0}],\n",
       " u'class': u'image',\n",
       " u'filename': u'arm_pose_annotation_img/10_17_T1/Kinect1/ir1500.png'}"
      ]
     },
     "execution_count": 8,
     "metadata": {},
     "output_type": "execute_result"
    }
   ],
   "source": [
    "data[0]"
   ]
  },
  {
   "cell_type": "code",
   "execution_count": 9,
   "metadata": {},
   "outputs": [],
   "source": [
    "pdata = pd.DataFrame(data)"
   ]
  },
  {
   "cell_type": "code",
   "execution_count": 10,
   "metadata": {},
   "outputs": [
    {
     "data": {
      "text/html": [
       "<div>\n",
       "<style scoped>\n",
       "    .dataframe tbody tr th:only-of-type {\n",
       "        vertical-align: middle;\n",
       "    }\n",
       "\n",
       "    .dataframe tbody tr th {\n",
       "        vertical-align: top;\n",
       "    }\n",
       "\n",
       "    .dataframe thead th {\n",
       "        text-align: right;\n",
       "    }\n",
       "</style>\n",
       "<table border=\"1\" class=\"dataframe\">\n",
       "  <thead>\n",
       "    <tr style=\"text-align: right;\">\n",
       "      <th></th>\n",
       "      <th>annotations</th>\n",
       "      <th>class</th>\n",
       "      <th>filename</th>\n",
       "    </tr>\n",
       "  </thead>\n",
       "  <tbody>\n",
       "    <tr>\n",
       "      <th>0</th>\n",
       "      <td>[{u'y': 298.0, u'x': 135.0, u'class': u'Left H...</td>\n",
       "      <td>image</td>\n",
       "      <td>arm_pose_annotation_img/10_17_T1/Kinect1/ir150...</td>\n",
       "    </tr>\n",
       "    <tr>\n",
       "      <th>1</th>\n",
       "      <td>[{u'y': 295.0, u'x': 135.0, u'class': u'Left H...</td>\n",
       "      <td>image</td>\n",
       "      <td>arm_pose_annotation_img/10_17_T1/Kinect1/ir153...</td>\n",
       "    </tr>\n",
       "    <tr>\n",
       "      <th>2</th>\n",
       "      <td>[{u'y': 298.0, u'x': 136.0, u'class': u'Left H...</td>\n",
       "      <td>image</td>\n",
       "      <td>arm_pose_annotation_img/10_17_T1/Kinect1/ir156...</td>\n",
       "    </tr>\n",
       "  </tbody>\n",
       "</table>\n",
       "</div>"
      ],
      "text/plain": [
       "                                         annotations  class  \\\n",
       "0  [{u'y': 298.0, u'x': 135.0, u'class': u'Left H...  image   \n",
       "1  [{u'y': 295.0, u'x': 135.0, u'class': u'Left H...  image   \n",
       "2  [{u'y': 298.0, u'x': 136.0, u'class': u'Left H...  image   \n",
       "\n",
       "                                            filename  \n",
       "0  arm_pose_annotation_img/10_17_T1/Kinect1/ir150...  \n",
       "1  arm_pose_annotation_img/10_17_T1/Kinect1/ir153...  \n",
       "2  arm_pose_annotation_img/10_17_T1/Kinect1/ir156...  "
      ]
     },
     "execution_count": 10,
     "metadata": {},
     "output_type": "execute_result"
    }
   ],
   "source": [
    "pdata[:3]"
   ]
  },
  {
   "cell_type": "markdown",
   "metadata": {},
   "source": [
    "### Create coco-style data"
   ]
  },
  {
   "cell_type": "code",
   "execution_count": 11,
   "metadata": {},
   "outputs": [],
   "source": [
    "coco_data = {\"images\":[], \"annotations\":[], \"categories\":[]}"
   ]
  },
  {
   "cell_type": "code",
   "execution_count": 12,
   "metadata": {},
   "outputs": [],
   "source": [
    "coco_data[\"categories\"] = [{'supercategory': 'person',\n",
    "  'id': 1,\n",
    "  'name': 'person',\n",
    "  'keypoints': ['nose',\n",
    "   'left_eye',\n",
    "   'right_eye',\n",
    "   'left_ear',\n",
    "   'right_ear',\n",
    "   'left_shoulder',\n",
    "   'right_shoulder',\n",
    "   'left_elbow',\n",
    "   'right_elbow',\n",
    "   'left_wrist',\n",
    "   'right_wrist',\n",
    "   'left_hip',\n",
    "   'right_hip',\n",
    "   'left_knee',\n",
    "   'right_knee',\n",
    "   'left_ankle',\n",
    "   'right_ankle'],\n",
    "  'skeleton': [[16, 14],\n",
    "   [14, 12],\n",
    "   [17, 15],\n",
    "   [15, 13],\n",
    "   [12, 13],\n",
    "   [6, 12],\n",
    "   [7, 13],\n",
    "   [6, 7],\n",
    "   [6, 8],\n",
    "   [7, 9],\n",
    "   [8, 10],\n",
    "   [9, 11],\n",
    "   [2, 3],\n",
    "   [1, 2],\n",
    "   [1, 3],\n",
    "   [2, 4],\n",
    "   [3, 5],\n",
    "   [4, 6],\n",
    "   [5, 7]]}]"
   ]
  },
  {
   "cell_type": "markdown",
   "metadata": {},
   "source": [
    "#### Our Annotation format"
   ]
  },
  {
   "cell_type": "markdown",
   "metadata": {},
   "source": [
    "In our annotations, we only have head(nose)(0), left shoulder(5), right shoulder(6), left elbow(7), right elbow(8), left wrist(9), right wrist(10), bb, arms crossed, both arms on table,\n",
    "both arms on body, one arm on body, one arm on table, leaning forward, leaning backward, upright"
   ]
  },
  {
   "cell_type": "code",
   "execution_count": 13,
   "metadata": {},
   "outputs": [],
   "source": [
    "joint_ann_dict = {\"Head\":0, \"Left Shoulder\":5, \"Right Shoulder\":6, \"Left Elbow\":7, \"Right Elbow\":8, \"Left Hand\":9, \"Right Hand\": 10}"
   ]
  },
  {
   "cell_type": "code",
   "execution_count": 14,
   "metadata": {},
   "outputs": [],
   "source": [
    "#h, w = 424, 512"
   ]
  },
  {
   "cell_type": "code",
   "execution_count": 15,
   "metadata": {},
   "outputs": [],
   "source": [
    "import cv2, os"
   ]
  },
  {
   "cell_type": "code",
   "execution_count": 16,
   "metadata": {},
   "outputs": [],
   "source": [
    "i = 0\n",
    "i_ann = 0\n",
    "\n",
    "for i, item in pdata.iterrows():\n",
    "    #item = pdata.iloc[i]\n",
    "    #pprint(item)\n",
    "    fname = item['filename']\n",
    "    fname = fname.replace(\"Kinect\",\"depth\")\n",
    "    fname = fname.replace(\"ir\",\"ud\")\n",
    "    h, w, _ = cv2.imread(fname).shape\n",
    "    im = {\"height\":h, \"width\":w, \"file_name\":fname, \"id\":i}\n",
    "\n",
    "    coco_data[\"images\"].append(im)\n",
    "\n",
    "    annpd = pd.DataFrame(item['annotations'])\n",
    "    \n",
    "    eps = 15\n",
    "    for _, person in annpd[annpd[\"class\"]==\"Person\"].iterrows():\n",
    "        #print(person)\n",
    "        ann = {\"segmentation\":[], \"keypoints\":[], \"iscrowd\":0, \"num_keypoints\":17, \"area\":0, \"id\":None, \"image_id\":i, \"bbox\":[], \"category_id\":1}\n",
    "        ann[\"bbox\"] = [person[\"x\"], person[\"y\"], person[\"width\"], person[\"height\"]]\n",
    "        ann[\"area\"] = person[\"width\"] * person[\"height\"]\n",
    "        condition = (annpd[\"x\"] > person[\"x\"]-eps) & (annpd[\"x\"] < person[\"x\"]+person[\"width\"]+eps) & \\\n",
    "                    (annpd[\"y\"] > person[\"y\"]-eps) & (annpd[\"y\"] < person[\"y\"]+person[\"height\"]+eps)\n",
    "        \n",
    "        joints = annpd[condition & (annpd[\"class\"]!=\"Person\")]\n",
    "\n",
    "        kp = np.zeros(51, dtype=np.int)\n",
    "        for _, row in joints.iterrows():\n",
    "            if row[\"class\"] in joint_ann_dict:\n",
    "                idx = 3 * joint_ann_dict[row[\"class\"]]\n",
    "                kp[idx:idx+3] = int(row[\"x\"]), int(row[\"y\"]), 2\n",
    "        ann[\"keypoints\"] = kp.tolist()\n",
    "        ann[\"id\"] = i_ann\n",
    "        ann[\"image_id\"] = i\n",
    "\n",
    "        coco_data[\"annotations\"].append(ann)\n",
    "\n",
    "        i_ann += 1\n",
    "        #print(kp)\n",
    "\n",
    "        #print(joints)"
   ]
  },
  {
   "cell_type": "code",
   "execution_count": 17,
   "metadata": {},
   "outputs": [
    {
     "data": {
      "text/plain": [
       "[{'area': 41586.0,\n",
       "  'bbox': [41.0, 133.0, 174.0, 239.0],\n",
       "  'category_id': 1,\n",
       "  'id': 0,\n",
       "  'image_id': 0,\n",
       "  'iscrowd': 0,\n",
       "  'keypoints': [106,\n",
       "   263,\n",
       "   2,\n",
       "   0,\n",
       "   0,\n",
       "   0,\n",
       "   0,\n",
       "   0,\n",
       "   0,\n",
       "   0,\n",
       "   0,\n",
       "   0,\n",
       "   0,\n",
       "   0,\n",
       "   0,\n",
       "   145,\n",
       "   224,\n",
       "   2,\n",
       "   75,\n",
       "   236,\n",
       "   2,\n",
       "   186,\n",
       "   268,\n",
       "   2,\n",
       "   78,\n",
       "   276,\n",
       "   2,\n",
       "   135,\n",
       "   298,\n",
       "   2,\n",
       "   99,\n",
       "   321,\n",
       "   2,\n",
       "   0,\n",
       "   0,\n",
       "   0,\n",
       "   0,\n",
       "   0,\n",
       "   0,\n",
       "   0,\n",
       "   0,\n",
       "   0,\n",
       "   0,\n",
       "   0,\n",
       "   0,\n",
       "   0,\n",
       "   0,\n",
       "   0,\n",
       "   0,\n",
       "   0,\n",
       "   0],\n",
       "  'num_keypoints': 17,\n",
       "  'segmentation': []},\n",
       " {'area': 49259.0,\n",
       "  'bbox': [257.0, 141.0, 217.0, 227.0],\n",
       "  'category_id': 1,\n",
       "  'id': 1,\n",
       "  'image_id': 0,\n",
       "  'iscrowd': 0,\n",
       "  'keypoints': [387,\n",
       "   296,\n",
       "   2,\n",
       "   0,\n",
       "   0,\n",
       "   0,\n",
       "   0,\n",
       "   0,\n",
       "   0,\n",
       "   0,\n",
       "   0,\n",
       "   0,\n",
       "   0,\n",
       "   0,\n",
       "   0,\n",
       "   415,\n",
       "   258,\n",
       "   2,\n",
       "   343,\n",
       "   249,\n",
       "   2,\n",
       "   446,\n",
       "   271,\n",
       "   2,\n",
       "   295,\n",
       "   237,\n",
       "   2,\n",
       "   0,\n",
       "   0,\n",
       "   0,\n",
       "   320,\n",
       "   274,\n",
       "   2,\n",
       "   0,\n",
       "   0,\n",
       "   0,\n",
       "   0,\n",
       "   0,\n",
       "   0,\n",
       "   0,\n",
       "   0,\n",
       "   0,\n",
       "   0,\n",
       "   0,\n",
       "   0,\n",
       "   0,\n",
       "   0,\n",
       "   0,\n",
       "   0,\n",
       "   0,\n",
       "   0],\n",
       "  'num_keypoints': 17,\n",
       "  'segmentation': []}]"
      ]
     },
     "execution_count": 17,
     "metadata": {},
     "output_type": "execute_result"
    }
   ],
   "source": [
    "coco_data['annotations'][:2]"
   ]
  },
  {
   "cell_type": "markdown",
   "metadata": {},
   "source": [
    "### Write annotations"
   ]
  },
  {
   "cell_type": "code",
   "execution_count": 18,
   "metadata": {},
   "outputs": [],
   "source": [
    "annfile = Path('annotations/keypoints.json')"
   ]
  },
  {
   "cell_type": "code",
   "execution_count": 19,
   "metadata": {},
   "outputs": [],
   "source": [
    "json.dump(coco_data, open(str(annfile), mode='w'))"
   ]
  },
  {
   "cell_type": "markdown",
   "metadata": {},
   "source": [
    "### Test if annotation is correct"
   ]
  },
  {
   "cell_type": "code",
   "execution_count": 20,
   "metadata": {},
   "outputs": [],
   "source": [
    "from pycocotools.coco import COCO\n",
    "import numpy as np\n",
    "#import skimage.io as io\n",
    "import matplotlib.pyplot as plt"
   ]
  },
  {
   "cell_type": "code",
   "execution_count": 21,
   "metadata": {},
   "outputs": [],
   "source": [
    "import cv2"
   ]
  },
  {
   "cell_type": "code",
   "execution_count": 22,
   "metadata": {},
   "outputs": [],
   "source": [
    "annfile = Path('annotations/keypoints.json')"
   ]
  },
  {
   "cell_type": "code",
   "execution_count": 23,
   "metadata": {},
   "outputs": [
    {
     "name": "stdout",
     "output_type": "stream",
     "text": [
      "loading annotations into memory...\n",
      "Done (t=0.01s)\n",
      "creating index...\n",
      "index created!\n"
     ]
    }
   ],
   "source": [
    "coco = COCO(str(annfile))"
   ]
  },
  {
   "cell_type": "code",
   "execution_count": 24,
   "metadata": {},
   "outputs": [],
   "source": [
    "imgIds = coco.getImgIds(catIds=[1])\n",
    "imgs = coco.loadImgs(ids = imgIds)"
   ]
  },
  {
   "cell_type": "code",
   "execution_count": 25,
   "metadata": {},
   "outputs": [
    {
     "name": "stdout",
     "output_type": "stream",
     "text": [
      "arm_pose_annotation_img/10_17_T1/depth1/ud1500.png\n",
      "arm_pose_annotation_img/10_17_T1/depth1/ud1530.png\n",
      "arm_pose_annotation_img/10_17_T1/depth1/ud1560.png\n",
      "arm_pose_annotation_img/10_17_T1/depth1/ud1590.png\n",
      "arm_pose_annotation_img/10_17_T1/depth1/ud1620.png\n",
      "arm_pose_annotation_img/10_17_T1/depth1/ud1650.png\n",
      "arm_pose_annotation_img/10_17_T1/depth1/ud1680.png\n",
      "arm_pose_annotation_img/10_17_T1/depth1/ud1710.png\n",
      "arm_pose_annotation_img/10_17_T1/depth1/ud1740.png\n",
      "arm_pose_annotation_img/10_17_T1/depth1/ud1770.png\n",
      "arm_pose_annotation_img/10_17_T1/depth1/ud1800.png\n",
      "arm_pose_annotation_img/10_17_T1/depth1/ud1830.png\n",
      "arm_pose_annotation_img/10_17_T1/depth1/ud1860.png\n",
      "arm_pose_annotation_img/10_17_T1/depth1/ud1890.png\n",
      "arm_pose_annotation_img/10_17_T1/depth1/ud1920.png\n",
      "arm_pose_annotation_img/10_17_T1/depth1/ud1950.png\n",
      "arm_pose_annotation_img/10_17_T1/depth1/ud1980.png\n",
      "arm_pose_annotation_img/10_17_T1/depth1/ud2010.png\n",
      "arm_pose_annotation_img/10_17_T1/depth1/ud2040.png\n",
      "arm_pose_annotation_img/10_17_T1/depth1/ud2070.png\n",
      "arm_pose_annotation_img/10_17_T1/depth1/ud2100.png\n",
      "arm_pose_annotation_img/10_17_T1/depth1/ud2130.png\n",
      "arm_pose_annotation_img/10_17_T1/depth1/ud2160.png\n",
      "arm_pose_annotation_img/10_17_T1/depth1/ud2190.png\n",
      "arm_pose_annotation_img/10_17_T1/depth1/ud2220.png\n",
      "arm_pose_annotation_img/10_17_T1/depth1/ud2250.png\n",
      "arm_pose_annotation_img/10_17_T1/depth1/ud2280.png\n",
      "arm_pose_annotation_img/10_17_T1/depth1/ud2310.png\n",
      "arm_pose_annotation_img/10_17_T1/depth1/ud2340.png\n",
      "arm_pose_annotation_img/10_17_T1/depth1/ud2370.png\n",
      "arm_pose_annotation_img/10_17_T1/depth1/ud2400.png\n",
      "arm_pose_annotation_img/10_17_T1/depth1/ud2430.png\n",
      "arm_pose_annotation_img/10_17_T1/depth1/ud2460.png\n",
      "arm_pose_annotation_img/10_17_T1/depth1/ud2490.png\n",
      "arm_pose_annotation_img/10_17_T1/depth1/ud2520.png\n",
      "arm_pose_annotation_img/10_17_T1/depth1/ud2550.png\n",
      "arm_pose_annotation_img/10_17_T1/depth1/ud2580.png\n",
      "arm_pose_annotation_img/10_17_T1/depth1/ud2610.png\n",
      "arm_pose_annotation_img/10_17_T1/depth1/ud2640.png\n",
      "arm_pose_annotation_img/10_17_T1/depth1/ud2670.png\n",
      "arm_pose_annotation_img/10_17_T1/depth1/ud2700.png\n",
      "arm_pose_annotation_img/10_17_T1/depth1/ud2730.png\n",
      "arm_pose_annotation_img/10_17_T1/depth1/ud2760.png\n",
      "arm_pose_annotation_img/10_17_T1/depth1/ud2790.png\n",
      "arm_pose_annotation_img/10_17_T1/depth1/ud2820.png\n",
      "arm_pose_annotation_img/10_17_T1/depth1/ud2850.png\n",
      "arm_pose_annotation_img/10_17_T1/depth1/ud2880.png\n",
      "arm_pose_annotation_img/10_17_T1/depth1/ud2910.png\n",
      "arm_pose_annotation_img/10_17_T1/depth1/ud2940.png\n",
      "arm_pose_annotation_img/10_17_T1/depth1/ud2970.png\n",
      "arm_pose_annotation_img/10_17_T1/depth1/ud3000.png\n",
      "arm_pose_annotation_img/10_17_T1/depth1/ud3030.png\n",
      "arm_pose_annotation_img/10_17_T1/depth1/ud3060.png\n",
      "arm_pose_annotation_img/10_17_T1/depth1/ud3090.png\n",
      "arm_pose_annotation_img/10_17_T1/depth1/ud3120.png\n",
      "arm_pose_annotation_img/10_17_T1/depth1/ud3150.png\n",
      "arm_pose_annotation_img/10_17_T1/depth1/ud3180.png\n",
      "arm_pose_annotation_img/10_17_T1/depth1/ud3210.png\n",
      "arm_pose_annotation_img/10_17_T1/depth1/ud3240.png\n",
      "arm_pose_annotation_img/10_17_T1/depth1/ud3270.png\n",
      "arm_pose_annotation_img/10_17_T1/depth1/ud3300.png\n",
      "arm_pose_annotation_img/10_17_T1/depth1/ud3330.png\n",
      "arm_pose_annotation_img/10_17_T1/depth1/ud3360.png\n",
      "arm_pose_annotation_img/10_17_T1/depth1/ud3420.png\n",
      "arm_pose_annotation_img/10_17_T1/depth1/ud3450.png\n",
      "arm_pose_annotation_img/10_17_T1/depth1/ud3480.png\n",
      "arm_pose_annotation_img/10_17_T1/depth1/ud3510.png\n",
      "arm_pose_annotation_img/10_17_T1/depth1/ud3540.png\n",
      "arm_pose_annotation_img/10_17_T1/depth1/ud3570.png\n",
      "arm_pose_annotation_img/10_17_T1/depth1/ud3600.png\n",
      "arm_pose_annotation_img/10_17_T1/depth1/ud3630.png\n",
      "arm_pose_annotation_img/10_17_T1/depth1/ud3660.png\n",
      "arm_pose_annotation_img/10_17_T1/depth1/ud3690.png\n",
      "arm_pose_annotation_img/10_17_T1/depth1/ud3720.png\n",
      "arm_pose_annotation_img/10_17_T1/depth1/ud3750.png\n",
      "arm_pose_annotation_img/10_17_T1/depth1/ud3780.png\n",
      "arm_pose_annotation_img/10_17_T1/depth1/ud3810.png\n",
      "arm_pose_annotation_img/10_17_T1/depth1/ud3840.png\n",
      "arm_pose_annotation_img/10_17_T1/depth1/ud3870.png\n",
      "arm_pose_annotation_img/10_17_T1/depth1/ud3900.png\n",
      "arm_pose_annotation_img/10_17_T1/depth1/ud3930.png\n",
      "arm_pose_annotation_img/10_17_T1/depth1/ud3960.png\n",
      "arm_pose_annotation_img/10_17_T1/depth1/ud4020.png\n",
      "arm_pose_annotation_img/10_17_T1/depth1/ud4050.png\n",
      "arm_pose_annotation_img/10_17_T1/depth1/ud4080.png\n",
      "arm_pose_annotation_img/10_17_T1/depth1/ud4110.png\n",
      "arm_pose_annotation_img/10_17_T1/depth1/ud4140.png\n",
      "arm_pose_annotation_img/10_17_T1/depth1/ud4170.png\n",
      "arm_pose_annotation_img/10_17_T1/depth1/ud4200.png\n",
      "arm_pose_annotation_img/10_17_T1/depth1/ud4230.png\n",
      "arm_pose_annotation_img/10_17_T1/depth1/ud4290.png\n",
      "arm_pose_annotation_img/10_17_T1/depth1/ud4350.png\n",
      "arm_pose_annotation_img/10_17_T1/depth1/ud4380.png\n",
      "arm_pose_annotation_img/10_17_T1/depth1/ud4410.png\n",
      "arm_pose_annotation_img/10_17_T1/depth1/ud4440.png\n",
      "arm_pose_annotation_img/10_17_T1/depth1/ud4470.png\n",
      "arm_pose_annotation_img/10_17_T1/depth1/ud4500.png\n",
      "arm_pose_annotation_img/10_17_T1/depth1/ud4530.png\n",
      "arm_pose_annotation_img/10_17_T1/depth1/ud4560.png\n",
      "arm_pose_annotation_img/10_17_T1/depth1/ud4590.png\n",
      "arm_pose_annotation_img/10_17_T1/depth1/ud4620.png\n",
      "arm_pose_annotation_img/10_17_T1/depth1/ud4650.png\n",
      "arm_pose_annotation_img/10_17_T1/depth1/ud4680.png\n",
      "arm_pose_annotation_img/10_17_T1/depth1/ud4710.png\n",
      "arm_pose_annotation_img/10_17_T1/depth1/ud4740.png\n",
      "arm_pose_annotation_img/10_17_T1/depth1/ud4770.png\n",
      "arm_pose_annotation_img/10_17_T1/depth1/ud4800.png\n",
      "arm_pose_annotation_img/10_17_T1/depth1/ud4830.png\n",
      "arm_pose_annotation_img/10_17_T1/depth1/ud4860.png\n",
      "arm_pose_annotation_img/10_17_T1/depth1/ud4890.png\n",
      "arm_pose_annotation_img/10_17_T1/depth1/ud4920.png\n",
      "arm_pose_annotation_img/10_17_T1/depth1/ud4950.png\n",
      "arm_pose_annotation_img/10_17_T1/depth1/ud4980.png\n",
      "arm_pose_annotation_img/10_17_T1/depth1/ud5010.png\n",
      "arm_pose_annotation_img/10_17_T1/depth1/ud5040.png\n",
      "arm_pose_annotation_img/10_17_T1/depth1/ud5070.png\n",
      "arm_pose_annotation_img/10_17_T1/depth1/ud5100.png\n",
      "arm_pose_annotation_img/10_17_T1/depth1/ud5130.png\n",
      "arm_pose_annotation_img/10_17_T1/depth1/ud5160.png\n",
      "arm_pose_annotation_img/10_17_T1/depth1/ud5190.png\n",
      "arm_pose_annotation_img/10_17_T1/depth1/ud5220.png\n",
      "arm_pose_annotation_img/10_17_T1/depth1/ud5250.png\n",
      "arm_pose_annotation_img/10_17_T1/depth1/ud5280.png\n",
      "arm_pose_annotation_img/10_17_T1/depth1/ud5310.png\n",
      "arm_pose_annotation_img/10_17_T1/depth1/ud5340.png\n",
      "arm_pose_annotation_img/10_17_T1/depth1/ud5370.png\n",
      "arm_pose_annotation_img/10_17_T1/depth1/ud5400.png\n",
      "arm_pose_annotation_img/10_17_T1/depth1/ud5430.png\n",
      "arm_pose_annotation_img/10_17_T1/depth1/ud5460.png\n",
      "arm_pose_annotation_img/10_17_T1/depth1/ud5490.png\n",
      "arm_pose_annotation_img/10_17_T1/depth1/ud5520.png\n",
      "arm_pose_annotation_img/10_17_T1/depth1/ud5550.png\n",
      "arm_pose_annotation_img/10_17_T1/depth1/ud5580.png\n",
      "arm_pose_annotation_img/10_17_T1/depth1/ud5610.png\n",
      "arm_pose_annotation_img/10_17_T1/depth1/ud5640.png\n",
      "arm_pose_annotation_img/10_17_T1/depth1/ud5670.png\n",
      "arm_pose_annotation_img/10_17_T1/depth1/ud5700.png\n",
      "arm_pose_annotation_img/10_17_T1/depth1/ud5730.png\n",
      "arm_pose_annotation_img/10_17_T1/depth1/ud5760.png\n",
      "arm_pose_annotation_img/10_17_T1/depth1/ud5790.png\n",
      "arm_pose_annotation_img/10_17_T1/depth1/ud5820.png\n",
      "arm_pose_annotation_img/10_17_T1/depth1/ud5880.png\n",
      "arm_pose_annotation_img/10_17_T1/depth1/ud5910.png\n",
      "arm_pose_annotation_img/10_17_T1/depth1/ud5940.png\n",
      "arm_pose_annotation_img/10_17_T1/depth1/ud5970.png\n",
      "arm_pose_annotation_img/10_17_T1/depth1/ud6000.png\n",
      "arm_pose_annotation_img/10_17_T1/depth1/ud6030.png\n",
      "arm_pose_annotation_img/10_17_T1/depth1/ud6060.png\n",
      "arm_pose_annotation_img/10_17_T1/depth1/ud6120.png\n",
      "arm_pose_annotation_img/10_17_T1/depth1/ud6150.png\n",
      "arm_pose_annotation_img/10_17_T1/depth1/ud6180.png\n",
      "arm_pose_annotation_img/10_17_T1/depth1/ud6210.png\n",
      "arm_pose_annotation_img/10_17_T1/depth1/ud6240.png\n",
      "arm_pose_annotation_img/10_17_T1/depth1/ud6270.png\n",
      "arm_pose_annotation_img/10_17_T1/depth1/ud6330.png\n",
      "arm_pose_annotation_img/10_17_T1/depth1/ud6360.png\n",
      "arm_pose_annotation_img/10_17_T1/depth1/ud6420.png\n",
      "arm_pose_annotation_img/10_17_T1/depth1/ud6450.png\n",
      "arm_pose_annotation_img/10_17_T1/depth1/ud6480.png\n",
      "arm_pose_annotation_img/10_17_T1/depth1/ud6510.png\n",
      "arm_pose_annotation_img/10_17_T1/depth1/ud6540.png\n",
      "arm_pose_annotation_img/10_17_T1/depth1/ud6570.png\n",
      "arm_pose_annotation_img/10_17_T1/depth1/ud6600.png\n",
      "arm_pose_annotation_img/10_17_T1/depth1/ud6630.png\n",
      "arm_pose_annotation_img/10_17_T1/depth1/ud6660.png\n",
      "arm_pose_annotation_img/10_17_T1/depth1/ud6690.png\n",
      "arm_pose_annotation_img/10_17_T1/depth1/ud6720.png\n",
      "arm_pose_annotation_img/10_17_T1/depth1/ud6750.png\n",
      "arm_pose_annotation_img/10_17_T1/depth1/ud6810.png\n",
      "arm_pose_annotation_img/10_17_T1/depth1/ud6840.png\n",
      "arm_pose_annotation_img/10_17_T1/depth1/ud6870.png\n",
      "arm_pose_annotation_img/10_17_T1/depth1/ud6900.png\n",
      "arm_pose_annotation_img/10_17_T1/depth1/ud6930.png\n",
      "arm_pose_annotation_img/10_17_T1/depth1/ud6960.png\n",
      "arm_pose_annotation_img/10_17_T1/depth1/ud6990.png\n",
      "arm_pose_annotation_img/10_17_T1/depth1/ud7020.png\n",
      "arm_pose_annotation_img/10_17_T1/depth1/ud7050.png\n",
      "arm_pose_annotation_img/10_17_T1/depth1/ud7080.png\n",
      "arm_pose_annotation_img/10_17_T1/depth1/ud7110.png\n",
      "arm_pose_annotation_img/10_17_T1/depth1/ud7140.png\n",
      "arm_pose_annotation_img/10_17_T1/depth1/ud7170.png\n",
      "arm_pose_annotation_img/10_17_T1/depth1/ud7200.png\n",
      "arm_pose_annotation_img/10_17_T1/depth1/ud7230.png\n",
      "arm_pose_annotation_img/10_17_T1/depth1/ud7260.png\n",
      "arm_pose_annotation_img/10_17_T1/depth1/ud7290.png\n",
      "arm_pose_annotation_img/10_17_T1/depth1/ud7320.png\n",
      "arm_pose_annotation_img/10_17_T1/depth1/ud7350.png\n",
      "arm_pose_annotation_img/10_17_T1/depth1/ud7380.png\n",
      "arm_pose_annotation_img/10_17_T1/depth1/ud7410.png\n",
      "arm_pose_annotation_img/10_17_T1/depth1/ud7440.png\n",
      "arm_pose_annotation_img/10_17_T1/depth1/ud7500.png\n",
      "arm_pose_annotation_img/10_17_T1/depth1/ud7530.png\n",
      "arm_pose_annotation_img/10_17_T1/depth1/ud7560.png\n",
      "arm_pose_annotation_img/10_17_T1/depth1/ud7590.png\n",
      "arm_pose_annotation_img/10_17_T1/depth1/ud7620.png\n",
      "arm_pose_annotation_img/10_17_T1/depth1/ud7710.png\n",
      "arm_pose_annotation_img/10_17_T1/depth1/ud7740.png\n",
      "arm_pose_annotation_img/10_17_T1/depth1/ud7770.png\n",
      "arm_pose_annotation_img/10_17_T1/depth1/ud7830.png\n",
      "arm_pose_annotation_img/10_17_T1/depth1/ud7860.png\n",
      "arm_pose_annotation_img/10_17_T1/depth1/ud7890.png\n",
      "arm_pose_annotation_img/10_17_T1/depth1/ud7920.png\n",
      "arm_pose_annotation_img/10_17_T1/depth1/ud7950.png\n",
      "arm_pose_annotation_img/10_17_T1/depth1/ud7980.png\n",
      "arm_pose_annotation_img/10_17_T1/depth1/ud8010.png\n",
      "arm_pose_annotation_img/10_17_T1/depth1/ud8040.png\n",
      "arm_pose_annotation_img/10_17_T1/depth1/ud8070.png\n",
      "arm_pose_annotation_img/10_17_T1/depth1/ud8100.png\n",
      "arm_pose_annotation_img/10_17_T1/depth1/ud8130.png\n",
      "arm_pose_annotation_img/10_17_T1/depth1/ud8160.png\n",
      "arm_pose_annotation_img/10_17_T1/depth1/ud8190.png\n",
      "arm_pose_annotation_img/10_17_T1/depth1/ud8220.png\n",
      "arm_pose_annotation_img/10_17_T1/depth1/ud8250.png\n",
      "arm_pose_annotation_img/10_17_T1/depth1/ud8280.png\n",
      "arm_pose_annotation_img/10_17_T1/depth1/ud8310.png\n",
      "arm_pose_annotation_img/10_17_T1/depth1/ud8340.png\n",
      "arm_pose_annotation_img/10_17_T1/depth1/ud8370.png\n",
      "arm_pose_annotation_img/10_17_T1/depth1/ud8400.png\n",
      "arm_pose_annotation_img/10_17_T1/depth1/ud8430.png\n",
      "arm_pose_annotation_img/10_17_T1/depth1/ud8460.png\n",
      "arm_pose_annotation_img/10_17_T1/depth1/ud8490.png\n",
      "arm_pose_annotation_img/10_17_T1/depth1/ud8520.png\n",
      "arm_pose_annotation_img/10_17_T1/depth1/ud8550.png\n",
      "arm_pose_annotation_img/10_17_T1/depth1/ud8580.png\n",
      "arm_pose_annotation_img/10_17_T1/depth1/ud8610.png\n",
      "arm_pose_annotation_img/10_17_T1/depth1/ud8640.png\n",
      "arm_pose_annotation_img/10_17_T1/depth1/ud8670.png\n",
      "arm_pose_annotation_img/10_17_T1/depth1/ud8700.png\n",
      "arm_pose_annotation_img/10_17_T1/depth1/ud8730.png\n",
      "arm_pose_annotation_img/10_17_T1/depth1/ud8760.png\n",
      "arm_pose_annotation_img/10_17_T1/depth1/ud8790.png\n",
      "arm_pose_annotation_img/10_17_T1/depth1/ud8820.png\n",
      "arm_pose_annotation_img/10_17_T1/depth1/ud8850.png\n",
      "arm_pose_annotation_img/10_17_T1/depth1/ud8880.png\n",
      "arm_pose_annotation_img/10_17_T1/depth1/ud8910.png\n",
      "arm_pose_annotation_img/10_17_T1/depth1/ud8970.png\n"
     ]
    }
   ],
   "source": [
    "dim = [2, 2]\n",
    "for i,img in enumerate(imgs):\n",
    "    fname = img['file_name']\n",
    "    #fname = fname.replace(\"Kinect\",\"depth\")\n",
    "    #fname = fname.replace(\"ir\",\"ud\")\n",
    "    print(fname)\n",
    "    I = cv2.imread(fname)\n",
    "    annIds = coco.getAnnIds(imgIds=img['id'], iscrowd=None)\n",
    "    anns = coco.loadAnns(annIds)\n",
    "    for ann in anns:\n",
    "        kp = ann['keypoints']\n",
    "        for j in range(17):\n",
    "            if kp[3*j+2]==2:\n",
    "                x, y = kp[3*j], kp[3*j+1]\n",
    "                cv2.circle(I,(x, y), 5, (0, 255, 0), 3)\n",
    "        bb = [int(f) for f in ann['bbox']]\n",
    "        cv2.rectangle(I, (bb[0], bb[1]), (bb[0]+bb[2], bb[1]+bb[3]), (255, 0, 0), 3)\n",
    "    ff = Path(fname).name\n",
    "    cv2.imwrite('checkim/{}.jpg'.format(ff), I)"
   ]
  },
  {
   "cell_type": "markdown",
   "metadata": {},
   "source": [
    "## Split train and val"
   ]
  },
  {
   "cell_type": "code",
   "execution_count": null,
   "metadata": {},
   "outputs": [],
   "source": []
  }
 ],
 "metadata": {
  "kernelspec": {
   "display_name": "Python 2",
   "language": "python",
   "name": "python2"
  },
  "language_info": {
   "codemirror_mode": {
    "name": "ipython",
    "version": 2
   },
   "file_extension": ".py",
   "mimetype": "text/x-python",
   "name": "python",
   "nbconvert_exporter": "python",
   "pygments_lexer": "ipython2",
   "version": "2.7.15"
  }
 },
 "nbformat": 4,
 "nbformat_minor": 2
}
