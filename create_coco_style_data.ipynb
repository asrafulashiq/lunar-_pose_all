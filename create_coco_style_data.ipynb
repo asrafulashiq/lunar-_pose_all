{
 "cells": [
  {
   "cell_type": "code",
   "execution_count": 27,
   "metadata": {},
   "outputs": [],
   "source": [
    "from pycocotools.coco import COCO"
   ]
  },
  {
   "cell_type": "code",
   "execution_count": 28,
   "metadata": {},
   "outputs": [
    {
     "name": "stdout",
     "output_type": "stream",
     "text": [
      "Using matplotlib backend: TkAgg\n",
      "Populating the interactive namespace from numpy and matplotlib\n"
     ]
    }
   ],
   "source": [
    "%pylab --no-import-all\n",
    "%reload_ext autoreload\n",
    "%autoreload 2\n",
    "#%matplotlib inline"
   ]
  },
  {
   "cell_type": "code",
   "execution_count": 29,
   "metadata": {},
   "outputs": [],
   "source": [
    "import json\n",
    "from pathlib import Path\n",
    "from pprint import pprint"
   ]
  },
  {
   "cell_type": "code",
   "execution_count": 30,
   "metadata": {},
   "outputs": [],
   "source": [
    "import pandas as pd\n",
    "import numpy as np"
   ]
  },
  {
   "cell_type": "code",
   "execution_count": 31,
   "metadata": {},
   "outputs": [],
   "source": [
    "json_dir = Path('./data/training/GT')"
   ]
  },
  {
   "cell_type": "code",
   "execution_count": 32,
   "metadata": {},
   "outputs": [],
   "source": [
    "data = []"
   ]
  },
  {
   "cell_type": "code",
   "execution_count": 33,
   "metadata": {},
   "outputs": [],
   "source": [
    "for file in json_dir.iterdir():\n",
    "    if str(file).endswith('json'):\n",
    "        fdata = json.load(file.open())\n",
    "        data.extend(fdata)"
   ]
  },
  {
   "cell_type": "code",
   "execution_count": 34,
   "metadata": {},
   "outputs": [
    {
     "data": {
      "text/plain": [
       "{u'annotations': [{u'class': u'Person',\n",
       "   u'height': 130.20504878900792,\n",
       "   u'width': 143.9422787071143,\n",
       "   u'x': 142.1504661091004,\n",
       "   u'y': 168.43038421330382},\n",
       "  {u'class': u'Head', u'x': 185.75123932743793, u'y': 213.82297002965524},\n",
       "  {u'class': u'Left Shoulder',\n",
       "   u'x': 219.19840782369684,\n",
       "   u'y': 203.6693653075766},\n",
       "  {u'class': u'Left Elbow', u'x': 246.6728676599095, u'y': 222.78203301972457},\n",
       "  {u'class': u'Left Hand', u'x': 251.4510345879465, u'y': 256.82647238198814},\n",
       "  {u'class': u'Right Shoulder',\n",
       "   u'x': 167.83311334729922,\n",
       "   u'y': 240.70015899986328},\n",
       "  {u'class': u'Right Elbow',\n",
       "   u'x': 170.81946767732234,\n",
       "   u'y': 273.5500566301176},\n",
       "  {u'class': u'Right Hand',\n",
       "   u'x': 221.58749128771532,\n",
       "   u'y': 268.7718897020806}],\n",
       " u'class': u'image',\n",
       " u'filename': u'data/training/10_17_T3_K1/frame00020.jpg'}"
      ]
     },
     "execution_count": 34,
     "metadata": {},
     "output_type": "execute_result"
    }
   ],
   "source": [
    "data[0]"
   ]
  },
  {
   "cell_type": "code",
   "execution_count": 35,
   "metadata": {},
   "outputs": [],
   "source": [
    "pdata = pd.DataFrame(data)"
   ]
  },
  {
   "cell_type": "code",
   "execution_count": 36,
   "metadata": {},
   "outputs": [
    {
     "data": {
      "text/html": [
       "<div>\n",
       "<style scoped>\n",
       "    .dataframe tbody tr th:only-of-type {\n",
       "        vertical-align: middle;\n",
       "    }\n",
       "\n",
       "    .dataframe tbody tr th {\n",
       "        vertical-align: top;\n",
       "    }\n",
       "\n",
       "    .dataframe thead th {\n",
       "        text-align: right;\n",
       "    }\n",
       "</style>\n",
       "<table border=\"1\" class=\"dataframe\">\n",
       "  <thead>\n",
       "    <tr style=\"text-align: right;\">\n",
       "      <th></th>\n",
       "      <th>annotations</th>\n",
       "      <th>class</th>\n",
       "      <th>filename</th>\n",
       "    </tr>\n",
       "  </thead>\n",
       "  <tbody>\n",
       "    <tr>\n",
       "      <th>0</th>\n",
       "      <td>[{u'y': 168.430384213, u'width': 143.942278707...</td>\n",
       "      <td>image</td>\n",
       "      <td>data/training/10_17_T3_K1/frame00020.jpg</td>\n",
       "    </tr>\n",
       "    <tr>\n",
       "      <th>1</th>\n",
       "      <td>[{u'y': 166.638571615, u'width': 167.235842481...</td>\n",
       "      <td>image</td>\n",
       "      <td>data/training/10_17_T3_K1/frame00175.jpg</td>\n",
       "    </tr>\n",
       "    <tr>\n",
       "      <th>2</th>\n",
       "      <td>[{u'y': 163.652217285, u'width': 155.887696027...</td>\n",
       "      <td>image</td>\n",
       "      <td>data/training/10_17_T3_K1/frame00200.jpg</td>\n",
       "    </tr>\n",
       "  </tbody>\n",
       "</table>\n",
       "</div>"
      ],
      "text/plain": [
       "                                         annotations  class  \\\n",
       "0  [{u'y': 168.430384213, u'width': 143.942278707...  image   \n",
       "1  [{u'y': 166.638571615, u'width': 167.235842481...  image   \n",
       "2  [{u'y': 163.652217285, u'width': 155.887696027...  image   \n",
       "\n",
       "                                   filename  \n",
       "0  data/training/10_17_T3_K1/frame00020.jpg  \n",
       "1  data/training/10_17_T3_K1/frame00175.jpg  \n",
       "2  data/training/10_17_T3_K1/frame00200.jpg  "
      ]
     },
     "execution_count": 36,
     "metadata": {},
     "output_type": "execute_result"
    }
   ],
   "source": [
    "pdata[:3]"
   ]
  },
  {
   "cell_type": "markdown",
   "metadata": {},
   "source": [
    "### Create coco-style data"
   ]
  },
  {
   "cell_type": "code",
   "execution_count": 37,
   "metadata": {},
   "outputs": [],
   "source": [
    "coco_data = {\"images\":[], \"annotations\":[], \"categories\":[]}"
   ]
  },
  {
   "cell_type": "code",
   "execution_count": 38,
   "metadata": {},
   "outputs": [],
   "source": [
    "coco_data[\"categories\"] = [{'supercategory': 'person',\n",
    "  'id': 1,\n",
    "  'name': 'person',\n",
    "  'keypoints': ['nose',\n",
    "   'left_eye',\n",
    "   'right_eye',\n",
    "   'left_ear',\n",
    "   'right_ear',\n",
    "   'left_shoulder',\n",
    "   'right_shoulder',\n",
    "   'left_elbow',\n",
    "   'right_elbow',\n",
    "   'left_wrist',\n",
    "   'right_wrist',\n",
    "   'left_hip',\n",
    "   'right_hip',\n",
    "   'left_knee',\n",
    "   'right_knee',\n",
    "   'left_ankle',\n",
    "   'right_ankle'],\n",
    "  'skeleton': [[16, 14],\n",
    "   [14, 12],\n",
    "   [17, 15],\n",
    "   [15, 13],\n",
    "   [12, 13],\n",
    "   [6, 12],\n",
    "   [7, 13],\n",
    "   [6, 7],\n",
    "   [6, 8],\n",
    "   [7, 9],\n",
    "   [8, 10],\n",
    "   [9, 11],\n",
    "   [2, 3],\n",
    "   [1, 2],\n",
    "   [1, 3],\n",
    "   [2, 4],\n",
    "   [3, 5],\n",
    "   [4, 6],\n",
    "   [5, 7]]}]"
   ]
  },
  {
   "cell_type": "markdown",
   "metadata": {},
   "source": [
    "#### Our Annotation format"
   ]
  },
  {
   "cell_type": "markdown",
   "metadata": {},
   "source": [
    "In our annotations, we only have head(nose)(0), left shoulder(5), right shoulder(6), left elbow(7), right elbow(8), left wrist(9), right wrist(10), bb, arms crossed, both arms on table,\n",
    "both arms on body, one arm on body, one arm on table, leaning forward, leaning backward, upright"
   ]
  },
  {
   "cell_type": "code",
   "execution_count": 39,
   "metadata": {},
   "outputs": [],
   "source": [
    "joint_ann_dict = {\"Head\":0, \"Left Shoulder\":5, \"Right Shoulder\":6, \"Left Elbow\":7, \"Right Elbow\":8, \"Left Hand\":9, \"Right Hand\": 10}"
   ]
  },
  {
   "cell_type": "code",
   "execution_count": 40,
   "metadata": {},
   "outputs": [],
   "source": [
    "#h, w = 424, 512"
   ]
  },
  {
   "cell_type": "code",
   "execution_count": 41,
   "metadata": {},
   "outputs": [],
   "source": [
    "import cv2, os"
   ]
  },
  {
   "cell_type": "code",
   "execution_count": 42,
   "metadata": {},
   "outputs": [],
   "source": [
    "i = 0\n",
    "i_ann = 0\n",
    "\n",
    "for i, item in pdata.iterrows():\n",
    "    #item = pdata.iloc[i]\n",
    "    #pprint(item)\n",
    "    fname = item['filename']\n",
    "    fname = fname.replace(\"Kinect\",\"depth\")\n",
    "    fname = fname.replace(\"ir\",\"ud\")\n",
    "    h, w, _ = cv2.imread(fname).shape\n",
    "    im = {\"height\":h, \"width\":w, \"file_name\":fname, \"id\":i}\n",
    "\n",
    "    coco_data[\"images\"].append(im)\n",
    "\n",
    "    annpd = pd.DataFrame(item['annotations'])\n",
    "    \n",
    "    eps = 15\n",
    "    for _, person in annpd[annpd[\"class\"]==\"Person\"].iterrows():\n",
    "        #print(person)\n",
    "        ann = {\"segmentation\":[], \"keypoints\":[], \"iscrowd\":0, \"num_keypoints\":17, \"area\":0, \"id\":None, \"image_id\":i, \"bbox\":[], \"category_id\":1}\n",
    "        ann[\"bbox\"] = [person[\"x\"], person[\"y\"], person[\"width\"], person[\"height\"]]\n",
    "        ann[\"area\"] = person[\"width\"] * person[\"height\"]\n",
    "        condition = (annpd[\"x\"] > person[\"x\"]-eps) & (annpd[\"x\"] < person[\"x\"]+person[\"width\"]+eps) & \\\n",
    "                    (annpd[\"y\"] > person[\"y\"]-eps) & (annpd[\"y\"] < person[\"y\"]+person[\"height\"]+eps)\n",
    "        \n",
    "        joints = annpd[condition & (annpd[\"class\"]!=\"Person\")]\n",
    "\n",
    "        kp = np.zeros(51, dtype=np.int)\n",
    "        for _, row in joints.iterrows():\n",
    "            if row[\"class\"] in joint_ann_dict:\n",
    "                idx = 3 * joint_ann_dict[row[\"class\"]]\n",
    "                kp[idx:idx+3] = int(row[\"x\"]), int(row[\"y\"]), 2\n",
    "        ann[\"keypoints\"] = kp.tolist()\n",
    "        ann[\"id\"] = i_ann\n",
    "        ann[\"image_id\"] = i\n",
    "\n",
    "        coco_data[\"annotations\"].append(ann)\n",
    "\n",
    "        i_ann += 1\n",
    "        #print(kp)\n",
    "\n",
    "        #print(joints)"
   ]
  },
  {
   "cell_type": "code",
   "execution_count": 43,
   "metadata": {},
   "outputs": [
    {
     "data": {
      "text/plain": [
       "[{'area': 18742.011421860792,\n",
       "  'bbox': [142.1504661091004,\n",
       "   168.43038421330382,\n",
       "   143.9422787071143,\n",
       "   130.20504878900792],\n",
       "  'category_id': 1,\n",
       "  'id': 0,\n",
       "  'image_id': 0,\n",
       "  'iscrowd': 0,\n",
       "  'keypoints': [185,\n",
       "   213,\n",
       "   2,\n",
       "   0,\n",
       "   0,\n",
       "   0,\n",
       "   0,\n",
       "   0,\n",
       "   0,\n",
       "   0,\n",
       "   0,\n",
       "   0,\n",
       "   0,\n",
       "   0,\n",
       "   0,\n",
       "   219,\n",
       "   203,\n",
       "   2,\n",
       "   167,\n",
       "   240,\n",
       "   2,\n",
       "   246,\n",
       "   222,\n",
       "   2,\n",
       "   170,\n",
       "   273,\n",
       "   2,\n",
       "   251,\n",
       "   256,\n",
       "   2,\n",
       "   221,\n",
       "   268,\n",
       "   2,\n",
       "   0,\n",
       "   0,\n",
       "   0,\n",
       "   0,\n",
       "   0,\n",
       "   0,\n",
       "   0,\n",
       "   0,\n",
       "   0,\n",
       "   0,\n",
       "   0,\n",
       "   0,\n",
       "   0,\n",
       "   0,\n",
       "   0,\n",
       "   0,\n",
       "   0,\n",
       "   0],\n",
       "  'num_keypoints': 17,\n",
       "  'segmentation': []},\n",
       " {'area': 21774.951029547803,\n",
       "  'bbox': [126.6214235929802,\n",
       "   166.63857161528998,\n",
       "   167.23584248129458,\n",
       "   130.20504878900792],\n",
       "  'category_id': 1,\n",
       "  'id': 1,\n",
       "  'image_id': 1,\n",
       "  'iscrowd': 0,\n",
       "  'keypoints': [184,\n",
       "   220,\n",
       "   2,\n",
       "   0,\n",
       "   0,\n",
       "   0,\n",
       "   0,\n",
       "   0,\n",
       "   0,\n",
       "   0,\n",
       "   0,\n",
       "   0,\n",
       "   0,\n",
       "   0,\n",
       "   0,\n",
       "   225,\n",
       "   208,\n",
       "   2,\n",
       "   166,\n",
       "   240,\n",
       "   2,\n",
       "   246,\n",
       "   218,\n",
       "   2,\n",
       "   150,\n",
       "   273,\n",
       "   2,\n",
       "   250,\n",
       "   256,\n",
       "   2,\n",
       "   200,\n",
       "   274,\n",
       "   2,\n",
       "   0,\n",
       "   0,\n",
       "   0,\n",
       "   0,\n",
       "   0,\n",
       "   0,\n",
       "   0,\n",
       "   0,\n",
       "   0,\n",
       "   0,\n",
       "   0,\n",
       "   0,\n",
       "   0,\n",
       "   0,\n",
       "   0,\n",
       "   0,\n",
       "   0,\n",
       "   0],\n",
       "  'num_keypoints': 17,\n",
       "  'segmentation': []}]"
      ]
     },
     "execution_count": 43,
     "metadata": {},
     "output_type": "execute_result"
    }
   ],
   "source": [
    "coco_data['annotations'][:2]"
   ]
  },
  {
   "cell_type": "markdown",
   "metadata": {},
   "source": [
    "### Write annotations"
   ]
  },
  {
   "cell_type": "code",
   "execution_count": 44,
   "metadata": {},
   "outputs": [],
   "source": [
    "annfile = Path('annotations/keypoints.json')"
   ]
  },
  {
   "cell_type": "code",
   "execution_count": 45,
   "metadata": {},
   "outputs": [],
   "source": [
    "json.dump(coco_data, open(str(annfile), mode='w'))"
   ]
  },
  {
   "cell_type": "markdown",
   "metadata": {},
   "source": [
    "### Test if annotation is correct"
   ]
  },
  {
   "cell_type": "code",
   "execution_count": 46,
   "metadata": {},
   "outputs": [],
   "source": [
    "from pycocotools.coco import COCO\n",
    "import numpy as np\n",
    "#import skimage.io as io\n",
    "import matplotlib.pyplot as plt"
   ]
  },
  {
   "cell_type": "code",
   "execution_count": 47,
   "metadata": {},
   "outputs": [],
   "source": [
    "import cv2"
   ]
  },
  {
   "cell_type": "code",
   "execution_count": 48,
   "metadata": {},
   "outputs": [],
   "source": [
    "annfile = Path('annotations/keypoints.json')"
   ]
  },
  {
   "cell_type": "code",
   "execution_count": 49,
   "metadata": {},
   "outputs": [
    {
     "name": "stdout",
     "output_type": "stream",
     "text": [
      "loading annotations into memory...\n",
      "Done (t=0.00s)\n",
      "creating index...\n",
      "index created!\n"
     ]
    }
   ],
   "source": [
    "coco = COCO(str(annfile))"
   ]
  },
  {
   "cell_type": "code",
   "execution_count": 50,
   "metadata": {},
   "outputs": [],
   "source": [
    "imgIds = coco.getImgIds(catIds=[1])\n",
    "imgs = coco.loadImgs(ids = imgIds)"
   ]
  },
  {
   "cell_type": "code",
   "execution_count": 51,
   "metadata": {},
   "outputs": [
    {
     "name": "stdout",
     "output_type": "stream",
     "text": [
      "data/training/10_17_T3_K1/frame00020.jpg\n",
      "data/training/10_17_T3_K1/frame00175.jpg\n",
      "data/training/10_17_T3_K1/frame00200.jpg\n",
      "data/training/10_17_T3_K1/frame00334.jpg\n",
      "data/training/10_17_T3_K1/frame00484.jpg\n",
      "data/training/10_17_T3_K1/frame00531.jpg\n",
      "data/training/10_17_T3_K1/frame00553.jpg\n",
      "data/training/10_17_T3_K1/frame00570.jpg\n",
      "data/training/10_17_T3_K1/frame00637.jpg\n",
      "data/training/10_17_T3_K1/frame00673.jpg\n",
      "data/training/10_17_T3_K1/frame00731.jpg\n",
      "data/training/10_17_T3_K1/frame00858.jpg\n",
      "data/training/10_17_T3_K1/frame00883.jpg\n",
      "data/training/10_17_T3_K1/frame00921.jpg\n",
      "data/training/10_17_T3_K1/frame00978.jpg\n",
      "data/training/10_17_T3_K1/frame01003.jpg\n",
      "data/training/10_17_T3_K1/frame01016.jpg\n",
      "data/training/10_17_T3_K1/frame01167.jpg\n",
      "data/training/10_17_T3_K1/frame01331.jpg\n",
      "data/training/10_17_T3_K1/frame01353.jpg\n",
      "data/training/10_17_T3_K1/frame01410.jpg\n",
      "data/training/10_17_T3_K1/frame01416.jpg\n",
      "data/training/10_17_T3_K1/frame01422.jpg\n",
      "data/training/10_17_T3_K1/frame01467.jpg\n",
      "data/training/10_17_T3_K1/frame01508.jpg\n",
      "data/training/10_17_T3_K1/frame01510.jpg\n",
      "data/training/10_17_T3_K1/frame01661.jpg\n",
      "data/training/10_17_T3_K1/frame01732.jpg\n",
      "data/training/10_17_T3_K1/frame01821.jpg\n",
      "data/training/10_17_T3_K1/frame01855.jpg\n",
      "data/training/10_17_T3_K1/frame02094.jpg\n",
      "data/training/10_17_T3_K1/frame02196.jpg\n",
      "data/training/10_17_T3_K1/frame02240.jpg\n",
      "data/training/10_17_T3_K1/frame02280.jpg\n",
      "data/training/10_17_T3_K1/frame02283.jpg\n",
      "data/training/10_17_T3_K1/frame02318.jpg\n",
      "data/training/10_17_T3_K1/frame02503.jpg\n",
      "data/training/10_17_T3_K1/frame02549.jpg\n",
      "data/training/10_17_T3_K1/frame02572.jpg\n",
      "data/training/10_17_T3_K1/frame02715.jpg\n",
      "data/training/10_17_T3_K1/frame02771.jpg\n",
      "data/training/10_17_T3_K1/frame02781.jpg\n",
      "data/training/10_17_T3_K1/frame02953.jpg\n",
      "data/training/10_17_T3_K1/frame03039.jpg\n",
      "data/training/10_17_T3_K1/frame03157.jpg\n",
      "data/training/10_17_T3_K1/frame03201.jpg\n",
      "data/training/10_17_T3_K1/frame03239.jpg\n",
      "data/training/10_17_T3_K1/frame03678.jpg\n",
      "data/training/10_17_T3_K1/frame03703.jpg\n",
      "data/training/10_17_T3_K1/frame03709.jpg\n",
      "data/training/10_17_T3_K1/frame03767.jpg\n",
      "data/training/10_17_T3_K1/frame03898.jpg\n",
      "data/training/10_17_T3_K1/frame03959.jpg\n",
      "data/training/10_17_T3_K1/frame04055.jpg\n",
      "data/training/10_17_T3_K1/frame04226.jpg\n",
      "data/training/10_17_T3_K1/frame04271.jpg\n",
      "data/training/10_17_T3_K1/frame04289.jpg\n",
      "data/training/10_17_T3_K1/frame04452.jpg\n",
      "data/training/10_17_T3_K1/frame04458.jpg\n",
      "data/training/10_17_T3_K1/frame04539.jpg\n",
      "data/training/10_17_T3_K1/frame04597.jpg\n",
      "data/training/10_17_T3_K1/frame04675.jpg\n",
      "data/training/10_17_T3_K1/frame04684.jpg\n",
      "data/training/10_17_T3_K1/frame04718.jpg\n",
      "data/training/10_17_T3_K1/frame04999.jpg\n",
      "data/training/10_17_T3_K1/frame05083.jpg\n",
      "data/training/10_17_T3_K1/frame05183.jpg\n",
      "data/training/10_17_T3_K1/frame05266.jpg\n",
      "data/training/10_17_T3_K1/frame05521.jpg\n",
      "data/training/10_17_T3_K1/frame05596.jpg\n",
      "data/training/10_17_T3_K1/frame05608.jpg\n",
      "data/training/10_17_T3_K1/frame05612.jpg\n",
      "data/training/10_17_T3_K1/frame05715.jpg\n",
      "data/training/10_17_T3_K1/frame05731.jpg\n",
      "data/training/10_17_T3_K1/frame05739.jpg\n",
      "data/training/10_17_T3_K1/frame05793.jpg\n",
      "data/training/10_17_T3_K1/frame05799.jpg\n",
      "data/training/10_17_T3_K1/frame05864.jpg\n",
      "data/training/10_17_T3_K1/frame06090.jpg\n",
      "data/training/10_17_T3_K1/frame06204.jpg\n",
      "data/training/10_17_T3_K1/frame06307.jpg\n",
      "data/training/10_17_T3_K1/frame06750.jpg\n",
      "data/training/10_17_T3_K1/frame06773.jpg\n",
      "data/training/10_17_T3_K1/frame06857.jpg\n",
      "data/training/10_17_T3_K1/frame07168.jpg\n",
      "data/training/10_17_T3_K1/frame07204.jpg\n",
      "data/training/10_17_T3_K1/frame07441.jpg\n",
      "data/training/10_17_T3_K1/frame07483.jpg\n",
      "data/training/10_17_T3_K1/frame07486.jpg\n",
      "data/training/10_17_T3_K1/frame07527.jpg\n",
      "data/training/10_17_T3_K1/frame07604.jpg\n",
      "data/training/10_17_T3_K1/frame07663.jpg\n",
      "data/training/10_17_T3_K1/frame07709.jpg\n",
      "data/training/10_17_T3_K1/frame07939.jpg\n",
      "data/training/10_17_T3_K1/frame08065.jpg\n",
      "data/training/10_17_T3_K1/frame08380.jpg\n",
      "data/training/10_17_T3_K1/frame08459.jpg\n",
      "data/training/10_17_T3_K1/frame08499.jpg\n",
      "data/training/10_17_T3_K1/frame08507.jpg\n",
      "data/training/10_17_T3_K1/frame08518.jpg\n",
      "data/training/10_16_T1_K1/frame00325.jpg\n",
      "data/training/10_16_T1_K1/frame00431.jpg\n",
      "data/training/10_16_T1_K1/frame00636.jpg\n",
      "data/training/10_16_T1_K1/frame00891.jpg\n",
      "data/training/10_16_T1_K1/frame00940.jpg\n",
      "data/training/10_16_T1_K1/frame01070.jpg\n",
      "data/training/10_16_T1_K1/frame01232.jpg\n",
      "data/training/10_16_T1_K1/frame01241.jpg\n",
      "data/training/10_16_T1_K1/frame01278.jpg\n",
      "data/training/10_16_T1_K1/frame01288.jpg\n",
      "data/training/10_16_T1_K1/frame01324.jpg\n",
      "data/training/10_16_T1_K1/frame01348.jpg\n",
      "data/training/10_16_T1_K1/frame01739.jpg\n",
      "data/training/10_16_T1_K1/frame01888.jpg\n",
      "data/training/10_16_T1_K1/frame02208.jpg\n",
      "data/training/10_16_T1_K1/frame02287.jpg\n",
      "data/training/10_16_T1_K1/frame02362.jpg\n",
      "data/training/10_16_T1_K1/frame02529.jpg\n",
      "data/training/10_16_T1_K1/frame02541.jpg\n",
      "data/training/10_16_T1_K1/frame02704.jpg\n",
      "data/training/10_16_T1_K1/frame02819.jpg\n",
      "data/training/10_16_T1_K1/frame02835.jpg\n",
      "data/training/10_16_T1_K1/frame02853.jpg\n",
      "data/training/10_16_T1_K1/frame02937.jpg\n",
      "data/training/10_16_T1_K1/frame03206.jpg\n",
      "data/training/10_16_T1_K1/frame03263.jpg\n",
      "data/training/10_16_T1_K1/frame03350.jpg\n",
      "data/training/10_16_T1_K1/frame03403.jpg\n",
      "data/training/10_16_T1_K1/frame03531.jpg\n",
      "data/training/10_16_T1_K1/frame03708.jpg\n",
      "data/training/10_16_T1_K1/frame03777.jpg\n",
      "data/training/10_16_T1_K1/frame03783.jpg\n",
      "data/training/10_16_T1_K1/frame03833.jpg\n",
      "data/training/10_16_T1_K1/frame04090.jpg\n",
      "data/training/10_16_T1_K1/frame04143.jpg\n",
      "data/training/10_16_T1_K1/frame04210.jpg\n",
      "data/training/10_16_T1_K1/frame04311.jpg\n",
      "data/training/10_16_T1_K1/frame04415.jpg\n",
      "data/training/10_16_T1_K1/frame04480.jpg\n",
      "data/training/10_16_T1_K1/frame04528.jpg\n",
      "data/training/10_16_T1_K1/frame04717.jpg\n",
      "data/training/10_16_T1_K1/frame04863.jpg\n",
      "data/training/10_16_T1_K1/frame04965.jpg\n",
      "data/training/10_16_T1_K1/frame05177.jpg\n",
      "data/training/10_16_T1_K1/frame05188.jpg\n",
      "data/training/10_16_T1_K1/frame05625.jpg\n",
      "data/training/10_16_T1_K1/frame05674.jpg\n",
      "data/training/10_16_T1_K1/frame05955.jpg\n",
      "data/training/10_16_T1_K1/frame06002.jpg\n",
      "data/training/10_16_T1_K1/frame06378.jpg\n",
      "data/training/10_16_T1_K1/frame06555.jpg\n",
      "data/training/10_16_T1_K1/frame06656.jpg\n",
      "data/training/10_16_T1_K1/frame06894.jpg\n",
      "data/training/10_16_T1_K1/frame07360.jpg\n",
      "data/training/10_16_T1_K1/frame07539.jpg\n",
      "data/training/10_16_T1_K1/frame07620.jpg\n",
      "data/training/10_16_T1_K1/frame08120.jpg\n",
      "data/training/10_16_T1_K1/frame08143.jpg\n",
      "data/training/10_16_T1_K1/frame08188.jpg\n",
      "data/training/10_16_T1_K1/frame08262.jpg\n",
      "data/training/10_16_T1_K1/frame08337.jpg\n",
      "data/training/10_16_T1_K1/frame08428.jpg\n",
      "data/training/10_16_T1_K1/frame08437.jpg\n",
      "data/training/10_16_T1_K1/frame08438.jpg\n",
      "data/training/10_16_T1_K1/frame08445.jpg\n",
      "data/training/10_16_T1_K1/frame08471.jpg\n",
      "data/training/10_16_T1_K1/frame08553.jpg\n",
      "data/training/10_16_T1_K1/frame08869.jpg\n",
      "data/training/10_16_T1_K1/frame08938.jpg\n",
      "data/training/10_16_T1_K1/frame09068.jpg\n",
      "data/training/10_16_T1_K1/frame09135.jpg\n",
      "data/training/10_16_T1_K1/frame09154.jpg\n",
      "data/training/10_16_T1_K1/frame09298.jpg\n",
      "data/training/10_16_T1_K1/frame09651.jpg\n",
      "data/training/10_16_T1_K1/frame10197.jpg\n",
      "data/training/10_16_T1_K1/frame10225.jpg\n",
      "data/training/10_16_T1_K1/frame10751.jpg\n",
      "data/training/10_16_T1_K1/frame10761.jpg\n",
      "data/training/10_16_T1_K1/frame10770.jpg\n",
      "data/training/10_16_T1_K1/frame10788.jpg\n",
      "data/training/10_16_T1_K1/frame10793.jpg\n",
      "data/training/10_16_T1_K1/frame10794.jpg\n",
      "data/training/10_16_T1_K1/frame11311.jpg\n",
      "data/training/10_16_T1_K1/frame11392.jpg\n",
      "data/training/10_16_T1_K1/frame11983.jpg\n",
      "data/training/10_16_T1_K1/frame12156.jpg\n",
      "data/training/10_16_T1_K1/frame12196.jpg\n",
      "data/training/10_16_T1_K1/frame12294.jpg\n",
      "data/training/10_16_T1_K1/frame12378.jpg\n",
      "data/training/10_16_T1_K1/frame12457.jpg\n",
      "data/training/10_16_T1_K1/frame12606.jpg\n",
      "data/training/10_16_T1_K1/frame12833.jpg\n",
      "data/training/10_16_T1_K1/frame12964.jpg\n",
      "data/training/10_16_T1_K1/frame13163.jpg\n",
      "data/training/10_16_T1_K1/frame13201.jpg\n",
      "data/training/10_16_T1_K1/frame13254.jpg\n",
      "data/training/10_16_T1_K1/frame13333.jpg\n",
      "data/training/10_16_T1_K1/frame13380.jpg\n",
      "data/training/10_16_T1_K1/frame13440.jpg\n",
      "data/training/10_16_T1_K1/frame13479.jpg\n"
     ]
    }
   ],
   "source": [
    "dim = [2, 2]\n",
    "for i,img in enumerate(imgs):\n",
    "    fname = img['file_name']\n",
    "    #fname = fname.replace(\"Kinect\",\"depth\")\n",
    "    #fname = fname.replace(\"ir\",\"ud\")\n",
    "    print(fname)\n",
    "    I = cv2.imread(fname)\n",
    "    annIds = coco.getAnnIds(imgIds=img['id'], iscrowd=None)\n",
    "    anns = coco.loadAnns(annIds)\n",
    "    for ann in anns:\n",
    "        kp = ann['keypoints']\n",
    "        for j in range(17):\n",
    "            if kp[3*j+2]==2:\n",
    "                x, y = kp[3*j], kp[3*j+1]\n",
    "                cv2.circle(I,(x, y), 5, (0, 255, 0), 3)\n",
    "        bb = [int(f) for f in ann['bbox']]\n",
    "        cv2.rectangle(I, (bb[0], bb[1]), (bb[0]+bb[2], bb[1]+bb[3]), (255, 0, 0), 3)\n",
    "    ff = Path(fname).name\n",
    "    cv2.imwrite('checkim/{}.jpg'.format(ff), I)"
   ]
  }
 ],
 "metadata": {
  "kernelspec": {
   "display_name": "Python 2",
   "language": "python",
   "name": "python2"
  },
  "language_info": {
   "codemirror_mode": {
    "name": "ipython",
    "version": 2
   },
   "file_extension": ".py",
   "mimetype": "text/x-python",
   "name": "python",
   "nbconvert_exporter": "python",
   "pygments_lexer": "ipython2",
   "version": "2.7.15"
  }
 },
 "nbformat": 4,
 "nbformat_minor": 2
}
